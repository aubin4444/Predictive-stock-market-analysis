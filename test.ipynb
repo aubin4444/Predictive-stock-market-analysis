{
 "cells": [
  {
   "cell_type": "code",
   "execution_count": 9,
   "metadata": {},
   "outputs": [],
   "source": [
    "import json\n",
    "import pandas as pd\n",
    "from alpha_vantage.timeseries import TimeSeries"
   ]
  },
  {
   "cell_type": "code",
   "execution_count": 10,
   "metadata": {},
   "outputs": [
    {
     "name": "stdout",
     "output_type": "stream",
     "text": [
      "API key : J6SKRNV7DUZAPSDF\n"
     ]
    }
   ],
   "source": [
    "def get_api_key(path):\n",
    "    try:\n",
    "        with open(path, 'r') as file:\n",
    "            content = json.load(file)\n",
    "            api_key = content['api_key']\n",
    "            return api_key\n",
    "    except FileNotFoundError:\n",
    "        print(\"Error : JSON file was not found\")\n",
    "        return None\n",
    "    except json.JSONDecodeError:\n",
    "        print(\"Error : JSON file is invalid\")\n",
    "        return None\n",
    "    except KeyError:\n",
    "        print(\"Erreur : key 'api_key' is not defined in JSON file\")\n",
    "        return None"
   ]
  },
  {
   "cell_type": "code",
   "execution_count": 12,
   "metadata": {},
   "outputs": [
    {
     "data": {
      "text/html": [
       "<div>\n",
       "<style scoped>\n",
       "    .dataframe tbody tr th:only-of-type {\n",
       "        vertical-align: middle;\n",
       "    }\n",
       "\n",
       "    .dataframe tbody tr th {\n",
       "        vertical-align: top;\n",
       "    }\n",
       "\n",
       "    .dataframe thead th {\n",
       "        text-align: right;\n",
       "    }\n",
       "</style>\n",
       "<table border=\"1\" class=\"dataframe\">\n",
       "  <thead>\n",
       "    <tr style=\"text-align: right;\">\n",
       "      <th></th>\n",
       "      <th>1. open</th>\n",
       "      <th>2. high</th>\n",
       "      <th>3. low</th>\n",
       "      <th>4. close</th>\n",
       "      <th>5. volume</th>\n",
       "    </tr>\n",
       "    <tr>\n",
       "      <th>date</th>\n",
       "      <th></th>\n",
       "      <th></th>\n",
       "      <th></th>\n",
       "      <th></th>\n",
       "      <th></th>\n",
       "    </tr>\n",
       "  </thead>\n",
       "  <tbody>\n",
       "    <tr>\n",
       "      <th>2024-07-03</th>\n",
       "      <td>177.88</td>\n",
       "      <td>177.980</td>\n",
       "      <td>175.17</td>\n",
       "      <td>175.73</td>\n",
       "      <td>1649049.0</td>\n",
       "    </tr>\n",
       "    <tr>\n",
       "      <th>2024-07-02</th>\n",
       "      <td>174.84</td>\n",
       "      <td>177.485</td>\n",
       "      <td>174.32</td>\n",
       "      <td>177.30</td>\n",
       "      <td>2883275.0</td>\n",
       "    </tr>\n",
       "    <tr>\n",
       "      <th>2024-07-01</th>\n",
       "      <td>173.45</td>\n",
       "      <td>176.460</td>\n",
       "      <td>173.38</td>\n",
       "      <td>175.10</td>\n",
       "      <td>3320961.0</td>\n",
       "    </tr>\n",
       "    <tr>\n",
       "      <th>2024-06-28</th>\n",
       "      <td>170.85</td>\n",
       "      <td>173.460</td>\n",
       "      <td>170.53</td>\n",
       "      <td>172.95</td>\n",
       "      <td>4193459.0</td>\n",
       "    </tr>\n",
       "    <tr>\n",
       "      <th>2024-06-27</th>\n",
       "      <td>171.12</td>\n",
       "      <td>172.500</td>\n",
       "      <td>170.48</td>\n",
       "      <td>170.85</td>\n",
       "      <td>2894001.0</td>\n",
       "    </tr>\n",
       "  </tbody>\n",
       "</table>\n",
       "</div>"
      ],
      "text/plain": [
       "            1. open  2. high  3. low  4. close  5. volume\n",
       "date                                                     \n",
       "2024-07-03   177.88  177.980  175.17    175.73  1649049.0\n",
       "2024-07-02   174.84  177.485  174.32    177.30  2883275.0\n",
       "2024-07-01   173.45  176.460  173.38    175.10  3320961.0\n",
       "2024-06-28   170.85  173.460  170.53    172.95  4193459.0\n",
       "2024-06-27   171.12  172.500  170.48    170.85  2894001.0"
      ]
     },
     "execution_count": 12,
     "metadata": {},
     "output_type": "execute_result"
    }
   ],
   "source": [
    "\n",
    "path = '../secrets/api_key.json'\n",
    "api_key = get_api_key(path)\n",
    "\n",
    "# Initialiser l'objet TimeSeries\n",
    "ts = TimeSeries(key=api_key, output_format='pandas')\n",
    "\n",
    "# Récupérer les données journalières pour IBM\n",
    "data, meta_data = ts.get_daily(symbol='IBM', outputsize='full')\n",
    "\n",
    "data.head()"
   ]
  },
  {
   "cell_type": "code",
   "execution_count": null,
   "metadata": {},
   "outputs": [],
   "source": []
  }
 ],
 "metadata": {
  "kernelspec": {
   "display_name": "Python 3",
   "language": "python",
   "name": "python3"
  },
  "language_info": {
   "codemirror_mode": {
    "name": "ipython",
    "version": 3
   },
   "file_extension": ".py",
   "mimetype": "text/x-python",
   "name": "python",
   "nbconvert_exporter": "python",
   "pygments_lexer": "ipython3",
   "version": "3.12.4"
  }
 },
 "nbformat": 4,
 "nbformat_minor": 2
}
